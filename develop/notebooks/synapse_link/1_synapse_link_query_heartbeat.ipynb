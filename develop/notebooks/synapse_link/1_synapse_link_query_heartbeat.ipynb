{
  "nbformat": 4,
  "nbformat_minor": 2,
  "cells": [
    {
      "cell_type": "code",
      "execution_count": 1,
      "outputs": [],
      "metadata": {
        "collapsed": false
      },
      "source": [
        "# Read from Cosmos DB analytical store into a Spark DataFrame and display 10 rows from the DataFrame\n",
        "# To select a preferred list of regions in a multi-region Cosmos DB account, add .option(\"spark.cosmos.preferredRegions\", \"<Region1>,<Region2>\")\n",
        "\n",
        "df = spark.read\\\n",
        "    .format(\"cosmos.olap\")\\\n",
        "    .option(\"spark.synapse.linkedService\", \"ls_cosmos_db_nyc_taxi_data\")\\\n",
        "    .option(\"spark.cosmos.container\", \"Heartbeat\")\\\n",
        "    .load()\n",
        "\n",
        "display(df.limit(10))"
      ]
    },
    {
      "cell_type": "code",
      "execution_count": 3,
      "outputs": [],
      "metadata": {
        "jupyter": {
          "source_hidden": false,
          "outputs_hidden": false
        },
        "nteract": {
          "transient": {
            "deleting": false
          }
        }
      },
      "source": [
        "# Define a threshold for idleness (e.g., if time to destination is greater than 10 mins)\n",
        "idle_threshold = 10"
      ]
    },
    {
      "cell_type": "code",
      "execution_count": 4,
      "outputs": [],
      "metadata": {
        "jupyter": {
          "source_hidden": false,
          "outputs_hidden": false
        },
        "nteract": {
          "transient": {
            "deleting": false
          }
        }
      },
      "source": [
        "# Aggregations\n",
        "total_hired_distance = df.filter(df[\"hired\"] == True).agg({\"distanceToDestination\": \"sum\"}).collect()[0][0]\n",
        "average_time_to_destination = df.agg({\"timeToDestinationMins\": \"avg\"}).collect()[0][0]\n",
        "hired_drivers_count = df.filter(df[\"hired\"] == True).count()\n",
        "idle_drivers_count = df.filter((df[\"timeToDestinationMins\"] > idle_threshold) & (df[\"distanceToDestination\"] < 1)).count()"
      ]
    },
    {
      "cell_type": "code",
      "execution_count": 5,
      "outputs": [],
      "metadata": {
        "jupyter": {
          "source_hidden": false,
          "outputs_hidden": false
        },
        "nteract": {
          "transient": {
            "deleting": false
          }
        }
      },
      "source": [
        "# Display results\n",
        "print(f\"Total Distance for Hired Drivers: {total_hired_distance:.2f} units\")\n",
        "print(f\"Average Time to Destination: {average_time_to_destination:.2f} mins\")\n",
        "print(f\"Count of Hired Drivers: {hired_drivers_count}\")\n",
        "print(f\"Count of Idle Drivers: {idle_drivers_count}\")"
      ]
    }
  ],
  "metadata": {
    "description": null,
    "save_output": true,
    "language_info": {
      "name": "python"
    }
  }
}